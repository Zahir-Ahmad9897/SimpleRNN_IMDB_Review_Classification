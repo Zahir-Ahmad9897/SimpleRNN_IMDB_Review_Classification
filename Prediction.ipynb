{
  "nbformat": 4,
  "nbformat_minor": 0,
  "metadata": {
    "colab": {
      "provenance": [],
      "gpuType": "T4"
    },
    "kernelspec": {
      "name": "python3",
      "display_name": "Python 3"
    },
    "language_info": {
      "name": "python"
    },
    "accelerator": "GPU"
  },
  "cells": [
    {
      "cell_type": "code",
      "execution_count": null,
      "metadata": {
        "id": "LUmBcwNF4fvS"
      },
      "outputs": [],
      "source": [
        "import numpy as np\n",
        "import tensorflow as tf\n",
        "from tensorflow.keras.datasets import imdb\n",
        "from tensorflow.keras.models import load_model\n",
        "from tensorflow.keras.preprocessing import sequence"
      ]
    },
    {
      "cell_type": "code",
      "source": [
        "from google.colab import drive\n",
        "drive.mount('/content/drive/')"
      ],
      "metadata": {
        "colab": {
          "base_uri": "https://localhost:8080/"
        },
        "id": "-cYuuQLfJiSQ",
        "outputId": "7613657b-3ce1-4d0a-c322-4a9ccd673757"
      },
      "execution_count": null,
      "outputs": [
        {
          "output_type": "stream",
          "name": "stdout",
          "text": [
            "Mounted at /content/drive/\n"
          ]
        }
      ]
    },
    {
      "cell_type": "code",
      "source": [],
      "metadata": {
        "id": "Q0Bd093wJidk"
      },
      "execution_count": null,
      "outputs": []
    },
    {
      "cell_type": "code",
      "source": [
        "word_index=imdb.get_word_index()\n",
        "reversed_word_index={value:key for key,value in word_index.items()}"
      ],
      "metadata": {
        "colab": {
          "base_uri": "https://localhost:8080/"
        },
        "id": "FY3Zcn5w4gkB",
        "outputId": "e4e57e7f-cc80-4474-a54f-cea8134a2bd1"
      },
      "execution_count": null,
      "outputs": [
        {
          "output_type": "stream",
          "name": "stdout",
          "text": [
            "Downloading data from https://storage.googleapis.com/tensorflow/tf-keras-datasets/imdb_word_index.json\n",
            "\u001b[1m1641221/1641221\u001b[0m \u001b[32m━━━━━━━━━━━━━━━━━━━━\u001b[0m\u001b[37m\u001b[0m \u001b[1m0s\u001b[0m 0us/step\n"
          ]
        }
      ]
    },
    {
      "cell_type": "code",
      "source": [
        "model = load_model('/content/drive/MyDrive/RNN_projects/Simple_RNN_IMDB.keras')\n"
      ],
      "metadata": {
        "id": "tlo0Cd4m4goD"
      },
      "execution_count": null,
      "outputs": []
    },
    {
      "cell_type": "code",
      "source": [
        "def decode_review(encoded_review):\n",
        "  return ' '.join([reversed_word_index.get(i-3,'!!!!!!!!!!') for i in encoded_review])\n",
        "\n",
        "\n",
        "def preprocess_text(text):\n",
        "  words = text.lower().split()\n",
        "  encoded_review=[word_index.get(word,2)+3 for word in words]\n",
        "  padded_review=sequence.pad_sequences([encoded_review],maxlen=500)\n",
        "  return padded_review"
      ],
      "metadata": {
        "id": "RjxIUpdhJs4o"
      },
      "execution_count": null,
      "outputs": []
    },
    {
      "cell_type": "code",
      "source": [
        "def predict_sentiment(review):\n",
        "  preprocess_input=preprocess_text(review)\n",
        "  prediction=model.predict(preprocess_input)\n",
        "  sentiment='Positive' if prediction[0][0] > 0.5  else 'Negative'\n",
        "  return sentiment,prediction[0][0]"
      ],
      "metadata": {
        "id": "79IwiRlYJs8o"
      },
      "execution_count": null,
      "outputs": []
    },
    {
      "cell_type": "code",
      "source": [
        "testing_review=\"The movie was fantastic! the acting was great and the plot was thrilling.\"\n",
        "sentiment,score=predict_sentiment(testing_review)\n",
        "print(f'Sentiment:{sentiment}')\n",
        "print(f'score: {score}')"
      ],
      "metadata": {
        "colab": {
          "base_uri": "https://localhost:8080/"
        },
        "id": "CG4c7NysJs-U",
        "outputId": "c122a847-21b8-4f08-a2d5-35cdd8508222"
      },
      "execution_count": null,
      "outputs": [
        {
          "output_type": "stream",
          "name": "stdout",
          "text": [
            "\u001b[1m1/1\u001b[0m \u001b[32m━━━━━━━━━━━━━━━━━━━━\u001b[0m\u001b[37m\u001b[0m \u001b[1m1s\u001b[0m 775ms/step\n",
            "Sentiment:Positive\n",
            "score: 0.9993487000465393\n"
          ]
        }
      ]
    },
    {
      "cell_type": "code",
      "source": [],
      "metadata": {
        "id": "-spbNXcdJtAD"
      },
      "execution_count": null,
      "outputs": []
    },
    {
      "cell_type": "code",
      "source": [],
      "metadata": {
        "id": "4actr9bpJtDg"
      },
      "execution_count": null,
      "outputs": []
    }
  ]
}